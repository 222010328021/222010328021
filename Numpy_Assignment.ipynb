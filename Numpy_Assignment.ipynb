{
  "cells": [
    {
      "cell_type": "markdown",
      "metadata": {
        "id": "view-in-github",
        "colab_type": "text"
      },
      "source": [
        "<a href=\"https://colab.research.google.com/github/222010328021/222010328021/blob/main/Numpy_Assignment.ipynb\" target=\"_parent\"><img src=\"https://colab.research.google.com/assets/colab-badge.svg\" alt=\"Open In Colab\"/></a>"
      ]
    },
    {
      "cell_type": "markdown",
      "source": [
        "# Numpy Assignment\n",
        "\n",
        "---\n",
        "\n",
        "**Instructions**\n",
        "\n",
        "1. **Read Each Question Carefully**: Understand what each question is asking before starting.\n",
        "\n",
        "2. **Complete the Functions**: For each question, you’ll find a partially completed function in the code cell. Fill in the missing parts to complete the function according to the requirements.\n",
        "\n",
        "3. **Test Your Function**: After completing each function, run the cell to test if your function works correctly.\n",
        "\n",
        "4. **Answer All Questions**: Ensure you complete all functions. Each question targets different aspects of NumPy.\n",
        "\n",
        "5. **Download Your Notebook**: Once you’ve finished and tested all functions, download your notebook file (.ipynb) by selecting `File > Download > Download .ipynb`.\n",
        "\n",
        "6. **Submit Your Work**: Upload the downloaded `.ipynb` file to the designated platform for submission.\n",
        "\n",
        "7. **Verify Your Submission**: Check that you have submitted the correct file and that it is not corrupted. Resubmit if necessary.\n",
        "\n",
        "Good luck, and happy coding!\n",
        "\n",
        "---"
      ],
      "metadata": {
        "id": "3UFBrs7PJ36J"
      },
      "id": "3UFBrs7PJ36J"
    },
    {
      "cell_type": "code",
      "execution_count": 1,
      "id": "6df786b9",
      "metadata": {
        "id": "6df786b9"
      },
      "outputs": [],
      "source": [
        "# run this code cell\n",
        "import numpy as np"
      ]
    },
    {
      "cell_type": "markdown",
      "id": "45fcc706",
      "metadata": {
        "id": "45fcc706"
      },
      "source": [
        "**1.Create a function desc which takes an ndarray salaries as argument and prints mean, median, variance and standard deviation of salaries** <br>\n",
        "- Input  : An ndarray of salaries <br>\n",
        "- Output : mean , median, variance and standard deviation"
      ]
    },
    {
      "cell_type": "code",
      "execution_count": 4,
      "id": "6f2f4242",
      "metadata": {
        "id": "6f2f4242",
        "colab": {
          "base_uri": "https://localhost:8080/"
        },
        "outputId": "6161c2da-5b09-4b35-fe66-2756238709cf"
      },
      "outputs": [
        {
          "output_type": "stream",
          "name": "stdout",
          "text": [
            "Mean Salary: 71000.0\n",
            "Median Salary: 75000.0\n",
            "Variance of Salaries: 204000000.0\n",
            "Standard Deviation of Salaries: 14282.8568570857\n"
          ]
        }
      ],
      "source": [
        "# Complete this function\n",
        "def desc(salaries):\n",
        "  # write your code here\n",
        "  mean_salary = np.mean(salaries)\n",
        "  median_salary = np.median(salaries)\n",
        "  variance_salary = np.var(salaries)\n",
        "  std_deviation_salary = np.std(salaries)\n",
        "\n",
        "  print(f\"Mean Salary: {mean_salary}\")\n",
        "  print(f\"Median Salary: {median_salary}\")\n",
        "  print(f\"Variance of Salaries: {variance_salary}\")\n",
        "  print(f\"Standard Deviation of Salaries: {std_deviation_salary}\")\n",
        "\n",
        "salaries_array = np.array([50000, 60000, 75000, 80000, 90000])\n",
        "desc(salaries_array)"
      ]
    },
    {
      "cell_type": "code",
      "execution_count": 5,
      "id": "e34149fd",
      "metadata": {
        "id": "e34149fd"
      },
      "outputs": [],
      "source": [
        "# Execute this code cell (DO NOT MODIFY)"
      ]
    },
    {
      "cell_type": "markdown",
      "id": "4403d0f3",
      "metadata": {
        "id": "4403d0f3"
      },
      "source": [
        "---\n",
        "---\n",
        "**2.Create a function quartiles which takes an ndarray salaries as argument and prints first, second and third quartiles** <br>\n",
        "- Input  : An ndarray of salaries <br>\n",
        "- Output : q1, q2 and q3"
      ]
    },
    {
      "cell_type": "code",
      "execution_count": 6,
      "id": "188c1a2b",
      "metadata": {
        "id": "188c1a2b"
      },
      "outputs": [],
      "source": [
        "def quartiles(salaries):\n",
        "  # write your code here\n",
        "  Q1 = np.percentile(salaries, 25)\n",
        "  Q2 = np.percentile(salaries, 50)\n",
        "  Q3 = np.percentile(salaries, 75)\n",
        "\n",
        "  print(f\"First Quartile (Q1): {Q1}\")\n",
        "  print(f\"Second Quartile (Q2): {Q2}\")\n",
        "  print(f\"Third Quartile (Q3): {Q3}\")"
      ]
    },
    {
      "cell_type": "code",
      "execution_count": 7,
      "id": "1441c917",
      "metadata": {
        "id": "1441c917",
        "colab": {
          "base_uri": "https://localhost:8080/"
        },
        "outputId": "8b29a622-7b63-42f8-cfc8-b4cb1758a614"
      },
      "outputs": [
        {
          "output_type": "stream",
          "name": "stdout",
          "text": [
            "First Quartile (Q1): 62500.0\n",
            "Second Quartile (Q2): 75000.0\n",
            "Third Quartile (Q3): 87500.0\n"
          ]
        }
      ],
      "source": [
        "salaries = np.array([50000,60000,70000,80000,90000,100000])\n",
        "quartiles(salaries)"
      ]
    },
    {
      "cell_type": "markdown",
      "id": "a4292c15",
      "metadata": {
        "id": "a4292c15"
      },
      "source": [
        "---\n",
        "---\n",
        "**3.Create a function z_scores which takes an ndarray as argument and returns an ndarray having the z scores of all elements** <br>\n",
        "- Input  : An ndarray of elements <br>\n",
        "- Output : An ndarray having z scores"
      ]
    },
    {
      "cell_type": "code",
      "execution_count": 8,
      "id": "02692077",
      "metadata": {
        "id": "02692077"
      },
      "outputs": [],
      "source": [
        "def z_scores(nums):\n",
        "  # Write your code here\n",
        "  mean = np.mean(nums)\n",
        "  std_dev = np.std(nums)\n",
        "  z_scores = (nums - mean) / std_dev\n",
        "  return z_scores"
      ]
    },
    {
      "cell_type": "code",
      "execution_count": 9,
      "id": "a0243e9a",
      "metadata": {
        "id": "a0243e9a",
        "colab": {
          "base_uri": "https://localhost:8080/"
        },
        "outputId": "c438fc16-fe07-4411-9081-6e277ce375ef"
      },
      "outputs": [
        {
          "output_type": "execute_result",
          "data": {
            "text/plain": [
              "array([-0.9258201 , -0.46291005, -1.38873015,  0.46291005,  0.9258201 ,\n",
              "        1.38873015])"
            ]
          },
          "metadata": {},
          "execution_count": 9
        }
      ],
      "source": [
        "nums = np.array([10,20,0,40,50,60])\n",
        "z_scores(nums)"
      ]
    },
    {
      "cell_type": "markdown",
      "id": "a8aad42f",
      "metadata": {
        "id": "a8aad42f"
      },
      "source": [
        "---\n",
        "---\n",
        "**4.Create a function variance which takes an ndarray of salaries and returns the variance without using the inbuilt variance function.** <br>\n",
        " - Input  : An ndarray\n",
        " - Output : variance"
      ]
    },
    {
      "cell_type": "code",
      "execution_count": 10,
      "id": "be31db9f",
      "metadata": {
        "id": "be31db9f"
      },
      "outputs": [],
      "source": [
        "def variance(salaries):\n",
        "  # write your code here\n",
        "  mean_salary = np.mean(salaries)\n",
        "  N = len(salaries)\n",
        "  var = np.sum((salaries - mean_salary) ** 2) / N\n",
        "  return var"
      ]
    },
    {
      "cell_type": "code",
      "execution_count": 11,
      "id": "5cf70983",
      "metadata": {
        "id": "5cf70983",
        "colab": {
          "base_uri": "https://localhost:8080/"
        },
        "outputId": "2a5e6f0b-d759-4a52-9299-55cff0396c34"
      },
      "outputs": [
        {
          "output_type": "execute_result",
          "data": {
            "text/plain": [
              "200000000.0"
            ]
          },
          "metadata": {},
          "execution_count": 11
        }
      ],
      "source": [
        "salaries = np.array([70000,80000,90000,100000,110000])\n",
        "variance(salaries)"
      ]
    },
    {
      "cell_type": "markdown",
      "id": "6ca4ad74",
      "metadata": {
        "id": "6ca4ad74"
      },
      "source": [
        "---\n",
        "---\n",
        "**5.Create a function comp_salaries which takes an ndarray of salaries and returns all salaries which are higher than the mean salary.** <br>\n",
        " - Input  : An ndarray of salaries\n",
        " - Output : an ndarray of salaries higher than the mean"
      ]
    },
    {
      "cell_type": "code",
      "execution_count": 12,
      "id": "5f190a5e",
      "metadata": {
        "id": "5f190a5e"
      },
      "outputs": [],
      "source": [
        "def comp_salaries(salaries):\n",
        "  # write your code here\n",
        "  mean_salary = np.mean(salaries)\n",
        "  higher_salaries = salaries[salaries > mean_salary]\n",
        "  return higher_salaries"
      ]
    },
    {
      "cell_type": "code",
      "execution_count": 13,
      "id": "9de69074",
      "metadata": {
        "id": "9de69074",
        "colab": {
          "base_uri": "https://localhost:8080/"
        },
        "outputId": "10fbfa9f-6179-4a99-a3b8-f8894f8fb1d5"
      },
      "outputs": [
        {
          "output_type": "execute_result",
          "data": {
            "text/plain": [
              "array([76000, 85000, 92000, 94000])"
            ]
          },
          "metadata": {},
          "execution_count": 13
        }
      ],
      "source": [
        "salaries = np.array([76000,69000,40000,58000,85000,92000,94000])\n",
        "comp_salaries(salaries)"
      ]
    },
    {
      "cell_type": "markdown",
      "id": "3b1cfa5e",
      "metadata": {
        "id": "3b1cfa5e"
      },
      "source": [
        "---\n",
        "---\n",
        "**6.Create a function cum_sum_diff which takes two ndarrays of same size and returns the difference between cumulative sums at each position.** <br>\n",
        "- Input  : two ndarrays of having same number of elements\n",
        "- Output : difference in cumulative sums"
      ]
    },
    {
      "cell_type": "code",
      "execution_count": 14,
      "id": "55828d3b",
      "metadata": {
        "id": "55828d3b"
      },
      "outputs": [],
      "source": [
        "def cum_sum_diff(a1, a2):\n",
        "  # write your code here\n",
        "  if a1.shape != a2.shape:\n",
        "        raise ValueError(\"Both arrays must have the same number of elements.\")\n",
        "  cum_sum1 = np.cumsum(a1)\n",
        "  cum_sum2 = np.cumsum(a2)\n",
        "\n",
        "  diff = cum_sum1 - cum_sum2\n",
        "\n",
        "  return diff"
      ]
    },
    {
      "cell_type": "code",
      "execution_count": 15,
      "id": "f1154cbe",
      "metadata": {
        "id": "f1154cbe",
        "colab": {
          "base_uri": "https://localhost:8080/"
        },
        "outputId": "515c3548-252a-4331-9a65-32c99ab761fa"
      },
      "outputs": [
        {
          "output_type": "execute_result",
          "data": {
            "text/plain": [
              "array([-2, -1,  5,  3,  1, -3, 10])"
            ]
          },
          "metadata": {},
          "execution_count": 15
        }
      ],
      "source": [
        "a1 = np.array([10,12,14,8,7,9,20])\n",
        "a2 = np.array([12,11,8,10,9,13,7])\n",
        "cum_sum_diff(a1,a2)"
      ]
    },
    {
      "cell_type": "markdown",
      "id": "2addb776",
      "metadata": {
        "id": "2addb776"
      },
      "source": [
        "---\n",
        "---\n",
        "**7.Create two ndarrays a1 and a2 each of shape 4,3 using the randint function having integers between 10 to 50 and concatenate them by axis 0.**"
      ]
    },
    {
      "cell_type": "code",
      "execution_count": 16,
      "id": "641415fc",
      "metadata": {
        "id": "641415fc",
        "colab": {
          "base_uri": "https://localhost:8080/"
        },
        "outputId": "8048fcb3-34fa-4edd-f6d3-280235f480d3"
      },
      "outputs": [
        {
          "output_type": "stream",
          "name": "stdout",
          "text": [
            "Array a1:\n",
            "[[24 48 49]\n",
            " [22 16 47]\n",
            " [31 29 47]\n",
            " [16 14 41]]\n",
            "\n",
            "Array a2:\n",
            "[[24 11 11]\n",
            " [12 32 28]\n",
            " [23 48 13]\n",
            " [31 50 36]]\n",
            "\n",
            "Concatenated Array:\n",
            "[[24 48 49]\n",
            " [22 16 47]\n",
            " [31 29 47]\n",
            " [16 14 41]\n",
            " [24 11 11]\n",
            " [12 32 28]\n",
            " [23 48 13]\n",
            " [31 50 36]]\n"
          ]
        }
      ],
      "source": [
        "# write your code here\n",
        "a1 = np.random.randint(10, 51, size=(4, 3))\n",
        "a2 = np.random.randint(10, 51, size=(4, 3))\n",
        "concatenated_array = np.concatenate((a1, a2), axis=0)\n",
        "print(\"Array a1:\")\n",
        "print(a1)\n",
        "print(\"\\nArray a2:\")\n",
        "print(a2)\n",
        "print(\"\\nConcatenated Array:\")\n",
        "print(concatenated_array)"
      ]
    },
    {
      "cell_type": "markdown",
      "id": "5f37a974",
      "metadata": {
        "id": "5f37a974"
      },
      "source": [
        "---\n",
        "---\n",
        "**8.Create a function compare which takes two ndarrays as arguments having marks of 2 students in 5 subjects each and prints a list having 5 tuples where each tuple contains the max and min marks recived in each subject.**\n",
        "- Input  : two ndarrays having 5 integers each\n",
        "- Output : a list with 5 tuples\n",
        "\n",
        "- sample:\n",
        "    - input:\n",
        "        - student 1 : [80,90,70,75,60]\n",
        "        - student 2 : [75,92,65,90,95]\n",
        "    - output:\n",
        "        - [(80, 75), (92, 90), (70, 65), (90, 75), (95, 60)]"
      ]
    },
    {
      "cell_type": "code",
      "execution_count": 17,
      "id": "025a6442",
      "metadata": {
        "id": "025a6442"
      },
      "outputs": [],
      "source": [
        "def compare(a1, a2):\n",
        "  # write your code here\n",
        "  if student1.shape[0] != 5 or student2.shape[0] != 5:\n",
        "        raise ValueError(\"Both students must have marks for exactly 5 subjects.\")\n",
        "  result = []\n",
        "\n",
        "  for i in range(5):\n",
        "        max_marks = max(student1[i], student2[i])\n",
        "        min_marks = min(student1[i], student2[i])\n",
        "        result.append((max_marks, min_marks))\n",
        "\n",
        "  return result"
      ]
    },
    {
      "cell_type": "code",
      "execution_count": 18,
      "id": "18e0a723",
      "metadata": {
        "id": "18e0a723",
        "colab": {
          "base_uri": "https://localhost:8080/"
        },
        "outputId": "516501ea-697e-4ccd-8287-fcf3f8ab1c52"
      },
      "outputs": [
        {
          "output_type": "execute_result",
          "data": {
            "text/plain": [
              "[(80, 75), (92, 90), (70, 65), (90, 75), (95, 60)]"
            ]
          },
          "metadata": {},
          "execution_count": 18
        }
      ],
      "source": [
        "student1 = np.array([80,90,70,75,60])\n",
        "student2 = np.array([75,92,65,90,95])\n",
        "compare(student1, student2)"
      ]
    },
    {
      "cell_type": "markdown",
      "id": "a49b2b45",
      "metadata": {
        "id": "a49b2b45"
      },
      "source": [
        "---\n",
        "---\n",
        "**9.Create a function max_min_pos which takes an ndarray as argument and returns the position of maximum element and minimum element from the ndarray.**\n",
        "- Input  : An ndarray of integers\n",
        "- Output : A tuple having index of max and min element"
      ]
    },
    {
      "cell_type": "code",
      "execution_count": 19,
      "id": "b0534607",
      "metadata": {
        "id": "b0534607"
      },
      "outputs": [],
      "source": [
        "def max_min_pos(nums):\n",
        "  #write your code here\n",
        "  if not isinstance(nums, np.ndarray):\n",
        "        raise TypeError(\"Input must be a NumPy ndarray.\")\n",
        "  pos_max = np.argmax(nums)\n",
        "  pos_min = np.argmin(nums)\n",
        "  return (pos_max, pos_min)"
      ]
    },
    {
      "cell_type": "code",
      "execution_count": 20,
      "id": "945cf77b",
      "metadata": {
        "id": "945cf77b",
        "colab": {
          "base_uri": "https://localhost:8080/"
        },
        "outputId": "dec43167-8ce4-4908-bee5-1d2f06cc95b4"
      },
      "outputs": [
        {
          "output_type": "execute_result",
          "data": {
            "text/plain": [
              "(4, 1)"
            ]
          },
          "metadata": {},
          "execution_count": 20
        }
      ],
      "source": [
        "nums = np.array([80,10,60,40,90,30,20,50])\n",
        "max_min_pos(nums)"
      ]
    },
    {
      "cell_type": "markdown",
      "id": "2dedc333",
      "metadata": {
        "id": "2dedc333"
      },
      "source": [
        "---\n",
        "---\n",
        "**10.Create a function 'between' that takes an ndarray nums and two integers A and B indicating  a range(B > A). The function should return all elements between A and B present in nums.**\n",
        "- Input : An ndarray having n elements\n",
        "- Output : Elements between A and B"
      ]
    },
    {
      "cell_type": "code",
      "execution_count": 21,
      "id": "314259ad",
      "metadata": {
        "id": "314259ad"
      },
      "outputs": [],
      "source": [
        "def between(nums,A,B):\n",
        "  #write your code here\n",
        "  if B <= A:\n",
        "        raise ValueError(\"B must be greater than A.\")\n",
        "  result = nums[(nums > A) & (nums < B)]\n",
        "  return result"
      ]
    },
    {
      "cell_type": "code",
      "execution_count": 22,
      "id": "a9c869b7",
      "metadata": {
        "id": "a9c869b7",
        "colab": {
          "base_uri": "https://localhost:8080/"
        },
        "outputId": "a8ecaac0-eca8-4a3e-b56d-d7538443c1ca"
      },
      "outputs": [
        {
          "output_type": "execute_result",
          "data": {
            "text/plain": [
              "array([20, 30])"
            ]
          },
          "metadata": {},
          "execution_count": 22
        }
      ],
      "source": [
        "nums = np.array([10,40,20,30])\n",
        "between(nums, 15, 35)"
      ]
    },
    {
      "cell_type": "code",
      "execution_count": null,
      "id": "40fe5d30",
      "metadata": {
        "id": "40fe5d30"
      },
      "outputs": [],
      "source": []
    }
  ],
  "metadata": {
    "kernelspec": {
      "display_name": "Python 3 (ipykernel)",
      "language": "python",
      "name": "python3"
    },
    "language_info": {
      "codemirror_mode": {
        "name": "ipython",
        "version": 3
      },
      "file_extension": ".py",
      "mimetype": "text/x-python",
      "name": "python",
      "nbconvert_exporter": "python",
      "pygments_lexer": "ipython3",
      "version": "3.9.7"
    },
    "colab": {
      "provenance": [],
      "include_colab_link": true
    }
  },
  "nbformat": 4,
  "nbformat_minor": 5
}