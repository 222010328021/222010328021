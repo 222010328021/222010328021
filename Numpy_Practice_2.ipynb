{
  "nbformat": 4,
  "nbformat_minor": 0,
  "metadata": {
    "colab": {
      "provenance": [],
      "include_colab_link": true
    },
    "kernelspec": {
      "name": "python3",
      "display_name": "Python 3"
    },
    "language_info": {
      "name": "python"
    }
  },
  "cells": [
    {
      "cell_type": "markdown",
      "metadata": {
        "id": "view-in-github",
        "colab_type": "text"
      },
      "source": [
        "<a href=\"https://colab.research.google.com/github/222010328021/222010328021/blob/main/Numpy_Practice_2.ipynb\" target=\"_parent\"><img src=\"https://colab.research.google.com/assets/colab-badge.svg\" alt=\"Open In Colab\"/></a>"
      ]
    },
    {
      "cell_type": "markdown",
      "source": [
        "Welcome to the NumPy practice exercise! Please follow these instructions carefully to complete your assignment:\n",
        "\n",
        "1. **Read Each Question Carefully**: Each question is designed to test different aspects of your NumPy skills. Make sure to understand what is being asked before you start coding.\n",
        "\n",
        "2. **Write Your Code in the Provided Cells**: For each question, you will find a corresponding code cell where you should write your solution. Do not modify any other part of the notebook.\n",
        "\n",
        "3. **Run Your Code**: After writing your code, run the cell to ensure that your solution works as expected. Check the output and make sure it meets the requirements specified in the question.\n",
        "\n",
        "4. **Complete All Questions**: Make sure you answer all the questions provided. Each question has been included to assess a different skill or concept in NumPy.\n",
        "\n",
        "5. **Download Your Notebook**: Once you have completed all questions and verified that your solutions are correct, download your notebook file (.ipynb). You can do this by selecting `File > Download > Download .ipynb` from the menu.\n",
        "\n",
        "6. **Submit Your Work**: Upload the downloaded `.ipynb` file to the designated learning platform for submission.\n",
        "\n",
        "7. **Check Your Submission**: Ensure that you have submitted the correct file and that it is not corrupted. If there are any issues with the file, you may need to resubmit.\n",
        "\n",
        "Good luck, and happy coding!"
      ],
      "metadata": {
        "id": "o3lXLzMUPXIV"
      }
    },
    {
      "cell_type": "markdown",
      "source": [
        "Q1. Import Numpy as `np`"
      ],
      "metadata": {
        "id": "CpHe82s4eBTb"
      }
    },
    {
      "cell_type": "code",
      "execution_count": null,
      "metadata": {
        "id": "qnzsP323dx5r"
      },
      "outputs": [],
      "source": [
        "# write your code here"
      ]
    },
    {
      "cell_type": "markdown",
      "source": [
        "Q.2 Create a 5x5 array, with numbers ranging from 1-25 and save it in `matrix` variable.\n",
        "(Use `matrix` variable till question no 10.)"
      ],
      "metadata": {
        "id": "k1C3DajogUjR"
      }
    },
    {
      "cell_type": "code",
      "source": [
        "# write your code here"
      ],
      "metadata": {
        "id": "RbzHoLqRgi8Q"
      },
      "execution_count": null,
      "outputs": []
    },
    {
      "cell_type": "markdown",
      "source": [
        "Q.3 select the subset from `matrix`\n",
        "```python\n",
        "array([12,13,14,15],\n",
        "      [17,18,18,20],\n",
        "      [22,23,24,25])\n",
        "```"
      ],
      "metadata": {
        "id": "gf1j1Axbgjqc"
      }
    },
    {
      "cell_type": "code",
      "source": [
        "# write your code here"
      ],
      "metadata": {
        "id": "6u9pvMsbhEu9"
      },
      "execution_count": null,
      "outputs": []
    },
    {
      "cell_type": "markdown",
      "source": [
        "Q.4 Select the value 20 from the `matrix`"
      ],
      "metadata": {
        "id": "pMbeh4-UhGGl"
      }
    },
    {
      "cell_type": "code",
      "source": [
        "# write your code here"
      ],
      "metadata": {
        "id": "agxzVWv3hMHm"
      },
      "execution_count": null,
      "outputs": []
    },
    {
      "cell_type": "markdown",
      "source": [
        "Q.5 Select the below subset.(Use `matrix`)\n",
        "```python\n",
        "array([[2],\n",
        "      [7],\n",
        "      [12]])\n",
        "```\n"
      ],
      "metadata": {
        "id": "BcbS6z8ChM_r"
      }
    },
    {
      "cell_type": "code",
      "source": [
        "# write your code here"
      ],
      "metadata": {
        "id": "Ut0piiLmhc1F"
      },
      "execution_count": null,
      "outputs": []
    },
    {
      "cell_type": "markdown",
      "source": [
        "Q.6 Select the below subset. (Use `matrix`)\n",
        "```python\n",
        "array([21,22,23,24,25])\n",
        "```"
      ],
      "metadata": {
        "id": "sdYFbRE9hoDe"
      }
    },
    {
      "cell_type": "code",
      "source": [
        "# write your code here"
      ],
      "metadata": {
        "id": "zfGt6S5Sh1mr"
      },
      "execution_count": null,
      "outputs": []
    },
    {
      "cell_type": "markdown",
      "source": [
        "Q.7 Select the subset below (Use `matrix`)\n",
        "```python\n",
        "array([[16,17,18,19,20],\n",
        "       [21,22,23,24,25]])\n",
        "```\n",
        "\n"
      ],
      "metadata": {
        "id": "kLtHZ-Zlh2Xn"
      }
    },
    {
      "cell_type": "code",
      "source": [
        "# write your code here"
      ],
      "metadata": {
        "id": "L-20oAhtiUG0"
      },
      "execution_count": null,
      "outputs": []
    },
    {
      "cell_type": "markdown",
      "source": [
        "Q.8 Get the sum of all the values in `matrix`. (Expected Ans : 325)"
      ],
      "metadata": {
        "id": "s9euxthkiWfE"
      }
    },
    {
      "cell_type": "code",
      "source": [
        "# write your code here"
      ],
      "metadata": {
        "id": "SD1ARsgzihKl"
      },
      "execution_count": null,
      "outputs": []
    },
    {
      "cell_type": "markdown",
      "source": [
        "Q.9 Get the standard deviation of the values in `matrix`(Expected Ans : 7.2111025)"
      ],
      "metadata": {
        "id": "LsMfKuulih38"
      }
    },
    {
      "cell_type": "code",
      "source": [
        "# write your code here"
      ],
      "metadata": {
        "id": "QWrEDycqivbX"
      },
      "execution_count": null,
      "outputs": []
    },
    {
      "cell_type": "markdown",
      "source": [
        "Q. 10 Get the sum of all the columns in `matrix`. (Expected Ans: array([55,60,65,70,75])"
      ],
      "metadata": {
        "id": "eUve8iSbiwZ5"
      }
    },
    {
      "cell_type": "code",
      "source": [
        "# write your code here"
      ],
      "metadata": {
        "id": "L9woNaJ4jDCp"
      },
      "execution_count": null,
      "outputs": []
    },
    {
      "cell_type": "markdown",
      "source": [
        "Q.11 Reverse a 1D array."
      ],
      "metadata": {
        "id": "lh6rn-DvjFod"
      }
    },
    {
      "cell_type": "code",
      "source": [
        "# write your code here"
      ],
      "metadata": {
        "id": "7cqeALjUjKAI"
      },
      "execution_count": null,
      "outputs": []
    },
    {
      "cell_type": "markdown",
      "source": [
        "Q.12 Find indices of non-zero elements from [10,20,0,0,40,0]"
      ],
      "metadata": {
        "id": "wkFz7Rp0jLC0"
      }
    },
    {
      "cell_type": "code",
      "source": [
        "# write your code here"
      ],
      "metadata": {
        "id": "Iua-Zy77jTHg"
      },
      "execution_count": null,
      "outputs": []
    },
    {
      "cell_type": "markdown",
      "source": [
        "Q.13 Create a 10x10 array with random values and find the minimum and maximum values."
      ],
      "metadata": {
        "id": "R5QyWa_NjUJW"
      }
    },
    {
      "cell_type": "code",
      "source": [
        "# write your code here"
      ],
      "metadata": {
        "id": "OwSIG27HjfRR"
      },
      "execution_count": null,
      "outputs": []
    },
    {
      "cell_type": "markdown",
      "source": [
        "Q.14 Create a 10x10 array with 1 on the border and 0 inside."
      ],
      "metadata": {
        "id": "Co8OTEJ6jf6e"
      }
    },
    {
      "cell_type": "code",
      "source": [
        "# write your code here"
      ],
      "metadata": {
        "id": "Wzr5gLOJjvku"
      },
      "execution_count": null,
      "outputs": []
    },
    {
      "cell_type": "markdown",
      "source": [
        "Q. 15 Create 8x8 array and fill it with the cheakerboard pattern."
      ],
      "metadata": {
        "id": "3JLtpLvmjwyZ"
      }
    },
    {
      "cell_type": "code",
      "source": [
        "# write your code here"
      ],
      "metadata": {
        "id": "u4gEfzjbj7Ur"
      },
      "execution_count": null,
      "outputs": []
    },
    {
      "cell_type": "markdown",
      "source": [
        "Q.16 Create a numpy array of size 10 with values ranging from 0 to 1, both excluded."
      ],
      "metadata": {
        "id": "1PjyOeDAj8KP"
      }
    },
    {
      "cell_type": "code",
      "source": [
        "# write your code here"
      ],
      "metadata": {
        "id": "pQqh-pfYkTJ2"
      },
      "execution_count": null,
      "outputs": []
    },
    {
      "cell_type": "markdown",
      "source": [
        "Q.17 Create a random array of size 10 and sort it."
      ],
      "metadata": {
        "id": "mEeRFj_LkTny"
      }
    },
    {
      "cell_type": "code",
      "source": [
        "# write your code here"
      ],
      "metadata": {
        "id": "PFCXlqJ1kbVp"
      },
      "execution_count": null,
      "outputs": []
    },
    {
      "cell_type": "markdown",
      "source": [
        "Q.18 Create a random array of size 10 and replace the maximum value with 0."
      ],
      "metadata": {
        "id": "To1wobp2kb7C"
      }
    },
    {
      "cell_type": "code",
      "source": [
        "# write your code here"
      ],
      "metadata": {
        "id": "02ckfVLvkhSw"
      },
      "execution_count": null,
      "outputs": []
    },
    {
      "cell_type": "markdown",
      "source": [
        "Q.19 Create a random array of size 10 and replace the minimum value with 10."
      ],
      "metadata": {
        "id": "dxCgo46pQuI_"
      }
    },
    {
      "cell_type": "code",
      "source": [
        "# write your code here"
      ],
      "metadata": {
        "id": "iNP4L6uaQ06W"
      },
      "execution_count": null,
      "outputs": []
    },
    {
      "cell_type": "markdown",
      "source": [
        "Q.20 Create an array of size 5x5 and swap two rows."
      ],
      "metadata": {
        "id": "-RHfc3ymkh_C"
      }
    },
    {
      "cell_type": "code",
      "source": [
        " # write your code here"
      ],
      "metadata": {
        "id": "OvK420zakymy"
      },
      "execution_count": null,
      "outputs": []
    },
    {
      "cell_type": "markdown",
      "source": [
        "# End!"
      ],
      "metadata": {
        "id": "3RtCSNU_nZGs"
      }
    }
  ]
}