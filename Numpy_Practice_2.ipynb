{
  "nbformat": 4,
  "nbformat_minor": 0,
  "metadata": {
    "colab": {
      "provenance": [],
      "include_colab_link": true
    },
    "kernelspec": {
      "name": "python3",
      "display_name": "Python 3"
    },
    "language_info": {
      "name": "python"
    }
  },
  "cells": [
    {
      "cell_type": "markdown",
      "metadata": {
        "id": "view-in-github",
        "colab_type": "text"
      },
      "source": [
        "<a href=\"https://colab.research.google.com/github/222010328021/222010328021/blob/main/Numpy_Practice_2.ipynb\" target=\"_parent\"><img src=\"https://colab.research.google.com/assets/colab-badge.svg\" alt=\"Open In Colab\"/></a>"
      ]
    },
    {
      "cell_type": "markdown",
      "source": [
        "Welcome to the NumPy practice exercise! Please follow these instructions carefully to complete your assignment:\n",
        "\n",
        "1. **Read Each Question Carefully**: Each question is designed to test different aspects of your NumPy skills. Make sure to understand what is being asked before you start coding.\n",
        "\n",
        "2. **Write Your Code in the Provided Cells**: For each question, you will find a corresponding code cell where you should write your solution. Do not modify any other part of the notebook.\n",
        "\n",
        "3. **Run Your Code**: After writing your code, run the cell to ensure that your solution works as expected. Check the output and make sure it meets the requirements specified in the question.\n",
        "\n",
        "4. **Complete All Questions**: Make sure you answer all the questions provided. Each question has been included to assess a different skill or concept in NumPy.\n",
        "\n",
        "5. **Download Your Notebook**: Once you have completed all questions and verified that your solutions are correct, download your notebook file (.ipynb). You can do this by selecting `File > Download > Download .ipynb` from the menu.\n",
        "\n",
        "6. **Submit Your Work**: Upload the downloaded `.ipynb` file to the designated learning platform for submission.\n",
        "\n",
        "7. **Check Your Submission**: Ensure that you have submitted the correct file and that it is not corrupted. If there are any issues with the file, you may need to resubmit.\n",
        "\n",
        "Good luck, and happy coding!"
      ],
      "metadata": {
        "id": "o3lXLzMUPXIV"
      }
    },
    {
      "cell_type": "markdown",
      "source": [
        "Q1. Import Numpy as `np`"
      ],
      "metadata": {
        "id": "CpHe82s4eBTb"
      }
    },
    {
      "cell_type": "code",
      "execution_count": null,
      "metadata": {
        "id": "qnzsP323dx5r"
      },
      "outputs": [],
      "source": [
        "# write your code here\n",
        "import numpy as np"
      ]
    },
    {
      "cell_type": "markdown",
      "source": [
        "Q.2 Create a 5x5 array, with numbers ranging from 1-25 and save it in `matrix` variable.\n",
        "(Use `matrix` variable till question no 10.)"
      ],
      "metadata": {
        "id": "k1C3DajogUjR"
      }
    },
    {
      "cell_type": "code",
      "source": [
        "# write your code here\n",
        "a=np.arange(1,26).reshape(5,5)\n",
        "a"
      ],
      "metadata": {
        "id": "RbzHoLqRgi8Q",
        "colab": {
          "base_uri": "https://localhost:8080/"
        },
        "outputId": "f1672d02-965d-49d6-829f-df14000770f2"
      },
      "execution_count": null,
      "outputs": [
        {
          "output_type": "execute_result",
          "data": {
            "text/plain": [
              "array([[ 1,  2,  3,  4,  5],\n",
              "       [ 6,  7,  8,  9, 10],\n",
              "       [11, 12, 13, 14, 15],\n",
              "       [16, 17, 18, 19, 20],\n",
              "       [21, 22, 23, 24, 25]])"
            ]
          },
          "metadata": {},
          "execution_count": 3
        }
      ]
    },
    {
      "cell_type": "markdown",
      "source": [
        "Q.3 select the subset from `matrix`\n",
        "```python\n",
        "array([12,13,14,15],\n",
        "      [17,18,18,20],\n",
        "      [22,23,24,25])\n",
        "```"
      ],
      "metadata": {
        "id": "gf1j1Axbgjqc"
      }
    },
    {
      "cell_type": "code",
      "source": [
        "# write your code here\n",
        "subset=a[2:,1:]\n",
        "subset"
      ],
      "metadata": {
        "id": "6u9pvMsbhEu9",
        "colab": {
          "base_uri": "https://localhost:8080/"
        },
        "outputId": "4f53673a-dc81-42d3-dbe9-b2f2f7e0f6ee"
      },
      "execution_count": null,
      "outputs": [
        {
          "output_type": "execute_result",
          "data": {
            "text/plain": [
              "array([[12, 13, 14, 15],\n",
              "       [17, 18, 19, 20],\n",
              "       [22, 23, 24, 25]])"
            ]
          },
          "metadata": {},
          "execution_count": 5
        }
      ]
    },
    {
      "cell_type": "markdown",
      "source": [
        "Q.4 Select the value 20 from the `matrix`"
      ],
      "metadata": {
        "id": "pMbeh4-UhGGl"
      }
    },
    {
      "cell_type": "code",
      "source": [
        "# write your code here\n",
        "a[3,4]"
      ],
      "metadata": {
        "id": "agxzVWv3hMHm",
        "colab": {
          "base_uri": "https://localhost:8080/"
        },
        "outputId": "b1fe287d-37b6-4838-abb7-19c8f0745589"
      },
      "execution_count": null,
      "outputs": [
        {
          "output_type": "execute_result",
          "data": {
            "text/plain": [
              "20"
            ]
          },
          "metadata": {},
          "execution_count": 7
        }
      ]
    },
    {
      "cell_type": "markdown",
      "source": [
        "Q.5 Select the below subset.(Use `matrix`)\n",
        "```python\n",
        "array([[2],\n",
        "      [7],\n",
        "      [12]])\n",
        "```\n"
      ],
      "metadata": {
        "id": "BcbS6z8ChM_r"
      }
    },
    {
      "cell_type": "code",
      "source": [
        "# write your code here\n",
        "#a[:3,1]\n",
        "a[:3, 1:2]"
      ],
      "metadata": {
        "id": "Ut0piiLmhc1F",
        "colab": {
          "base_uri": "https://localhost:8080/"
        },
        "outputId": "b4818300-ca18-443a-9841-54131ee3f95f"
      },
      "execution_count": null,
      "outputs": [
        {
          "output_type": "execute_result",
          "data": {
            "text/plain": [
              "array([[ 2],\n",
              "       [ 7],\n",
              "       [12]])"
            ]
          },
          "metadata": {},
          "execution_count": 12
        }
      ]
    },
    {
      "cell_type": "markdown",
      "source": [
        "Q.6 Select the below subset. (Use `matrix`)\n",
        "```python\n",
        "array([21,22,23,24,25])\n",
        "```"
      ],
      "metadata": {
        "id": "sdYFbRE9hoDe"
      }
    },
    {
      "cell_type": "code",
      "source": [
        "# write your code here\n",
        "a[4,:]"
      ],
      "metadata": {
        "id": "zfGt6S5Sh1mr",
        "colab": {
          "base_uri": "https://localhost:8080/"
        },
        "outputId": "a8c256fd-9185-49db-d2eb-0728bdeff7aa"
      },
      "execution_count": null,
      "outputs": [
        {
          "output_type": "execute_result",
          "data": {
            "text/plain": [
              "array([21, 22, 23, 24, 25])"
            ]
          },
          "metadata": {},
          "execution_count": 13
        }
      ]
    },
    {
      "cell_type": "markdown",
      "source": [
        "Q.7 Select the subset below (Use `matrix`)\n",
        "```python\n",
        "array([[16,17,18,19,20],\n",
        "       [21,22,23,24,25]])\n",
        "```\n",
        "\n"
      ],
      "metadata": {
        "id": "kLtHZ-Zlh2Xn"
      }
    },
    {
      "cell_type": "code",
      "source": [
        "# write your code here\n",
        "a[3:,:]"
      ],
      "metadata": {
        "id": "L-20oAhtiUG0",
        "colab": {
          "base_uri": "https://localhost:8080/"
        },
        "outputId": "301f5500-5edd-46f2-e732-93a73a1a6596"
      },
      "execution_count": null,
      "outputs": [
        {
          "output_type": "execute_result",
          "data": {
            "text/plain": [
              "array([[16, 17, 18, 19, 20],\n",
              "       [21, 22, 23, 24, 25]])"
            ]
          },
          "metadata": {},
          "execution_count": 14
        }
      ]
    },
    {
      "cell_type": "markdown",
      "source": [
        "Q.8 Get the sum of all the values in `matrix`. (Expected Ans : 325)"
      ],
      "metadata": {
        "id": "s9euxthkiWfE"
      }
    },
    {
      "cell_type": "code",
      "source": [
        "# write your code here\n",
        "#a.cumsum()\n",
        "a.sum()"
      ],
      "metadata": {
        "id": "SD1ARsgzihKl",
        "colab": {
          "base_uri": "https://localhost:8080/"
        },
        "outputId": "d681725d-b241-40eb-f9d4-bfd109d260c3"
      },
      "execution_count": null,
      "outputs": [
        {
          "output_type": "execute_result",
          "data": {
            "text/plain": [
              "325"
            ]
          },
          "metadata": {},
          "execution_count": 16
        }
      ]
    },
    {
      "cell_type": "markdown",
      "source": [
        "Q.9 Get the standard deviation of the values in `matrix`(Expected Ans : 7.2111025)"
      ],
      "metadata": {
        "id": "LsMfKuulih38"
      }
    },
    {
      "cell_type": "code",
      "source": [
        "# write your code here\n",
        "a.std()"
      ],
      "metadata": {
        "id": "QWrEDycqivbX",
        "colab": {
          "base_uri": "https://localhost:8080/"
        },
        "outputId": "b3aaa97b-38a4-428b-df04-4ae679dbb4c8"
      },
      "execution_count": null,
      "outputs": [
        {
          "output_type": "execute_result",
          "data": {
            "text/plain": [
              "7.211102550927978"
            ]
          },
          "metadata": {},
          "execution_count": 17
        }
      ]
    },
    {
      "cell_type": "markdown",
      "source": [
        "Q. 10 Get the sum of all the columns in `matrix`. (Expected Ans: array([55,60,65,70,75])"
      ],
      "metadata": {
        "id": "eUve8iSbiwZ5"
      }
    },
    {
      "cell_type": "code",
      "source": [
        "# write your code here\n",
        "a.sum(axis=0)"
      ],
      "metadata": {
        "id": "L9woNaJ4jDCp",
        "colab": {
          "base_uri": "https://localhost:8080/"
        },
        "outputId": "9f92a353-e3c4-4036-9225-570013188fda"
      },
      "execution_count": null,
      "outputs": [
        {
          "output_type": "execute_result",
          "data": {
            "text/plain": [
              "array([55, 60, 65, 70, 75])"
            ]
          },
          "metadata": {},
          "execution_count": 20
        }
      ]
    },
    {
      "cell_type": "markdown",
      "source": [
        "Q.11 Reverse a 1D array."
      ],
      "metadata": {
        "id": "lh6rn-DvjFod"
      }
    },
    {
      "cell_type": "code",
      "source": [
        "# write your code here\n",
        "new_arr=a.ravel()\n",
        "new_arr[::-1]"
      ],
      "metadata": {
        "id": "7cqeALjUjKAI",
        "colab": {
          "base_uri": "https://localhost:8080/"
        },
        "outputId": "7aa56082-7f88-41df-bb98-57d4928dc5e3"
      },
      "execution_count": null,
      "outputs": [
        {
          "output_type": "execute_result",
          "data": {
            "text/plain": [
              "array([25, 24, 23, 22, 21, 20, 19, 18, 17, 16, 15, 14, 13, 12, 11, 10,  9,\n",
              "        8,  7,  6,  5,  4,  3,  2,  1])"
            ]
          },
          "metadata": {},
          "execution_count": 23
        }
      ]
    },
    {
      "cell_type": "markdown",
      "source": [
        "Q.12 Find indices of non-zero elements from [10,20,0,0,40,0]"
      ],
      "metadata": {
        "id": "wkFz7Rp0jLC0"
      }
    },
    {
      "cell_type": "code",
      "source": [
        "# write your code here\n",
        "b = np.array([10, 20, 0, 0, 40, 0])\n",
        "np.nonzero(b)"
      ],
      "metadata": {
        "id": "Iua-Zy77jTHg",
        "colab": {
          "base_uri": "https://localhost:8080/"
        },
        "outputId": "ef7d70ce-cf89-4b05-98aa-e4a798537cd0"
      },
      "execution_count": null,
      "outputs": [
        {
          "output_type": "execute_result",
          "data": {
            "text/plain": [
              "(array([0, 1, 4]),)"
            ]
          },
          "metadata": {},
          "execution_count": 24
        }
      ]
    },
    {
      "cell_type": "markdown",
      "source": [
        "Q.13 Create a 10x10 array with random values and find the minimum and maximum values."
      ],
      "metadata": {
        "id": "R5QyWa_NjUJW"
      }
    },
    {
      "cell_type": "code",
      "source": [
        "# write your code here\n",
        "random_array = np.random.rand(10, 10)\n",
        "min_value = random_array.min()\n",
        "max_value = random_array.max()\n",
        "print(\"Random Array:\\n\", random_array)\n",
        "print(\"Minimum Value:\", min_value)\n",
        "print(\"Maximum Value:\", max_value)"
      ],
      "metadata": {
        "id": "OwSIG27HjfRR",
        "colab": {
          "base_uri": "https://localhost:8080/"
        },
        "outputId": "6629841d-56a2-4e9a-df90-b3e3a81165a2"
      },
      "execution_count": null,
      "outputs": [
        {
          "output_type": "stream",
          "name": "stdout",
          "text": [
            "Random Array:\n",
            " [[0.10800677 0.2672133  0.8451464  0.31746594 0.10391888 0.84788714\n",
            "  0.44467258 0.83063995 0.77147234 0.36125688]\n",
            " [0.91178328 0.59307702 0.46195326 0.57105614 0.26387617 0.82190424\n",
            "  0.00814968 0.37577332 0.67458379 0.98568974]\n",
            " [0.35704789 0.83858194 0.56822621 0.7575914  0.68385704 0.84802675\n",
            "  0.38218286 0.30974824 0.40052081 0.2795563 ]\n",
            " [0.41781388 0.76374436 0.88593899 0.74177587 0.24993197 0.64905543\n",
            "  0.67570698 0.73437941 0.55784295 0.29525004]\n",
            " [0.7412203  0.99038426 0.03348013 0.40086182 0.85266411 0.35868068\n",
            "  0.58276749 0.4588603  0.31389477 0.2504164 ]\n",
            " [0.74215055 0.29487295 0.29769741 0.64004758 0.66823932 0.29024461\n",
            "  0.68985058 0.11559227 0.21063896 0.97238984]\n",
            " [0.40172826 0.78939814 0.49833498 0.55571165 0.2725617  0.42220437\n",
            "  0.76380898 0.32041327 0.28139431 0.22084407]\n",
            " [0.73609621 0.55399469 0.47986706 0.16694791 0.7091923  0.36439378\n",
            "  0.9918587  0.23143944 0.18133049 0.54352481]\n",
            " [0.0372515  0.67480573 0.40080187 0.22606924 0.61927576 0.02661824\n",
            "  0.76893342 0.51474449 0.91658766 0.958314  ]\n",
            " [0.44663617 0.21063281 0.57833241 0.29616706 0.59704624 0.13369908\n",
            "  0.87181097 0.89606027 0.13924939 0.86993106]]\n",
            "Minimum Value: 0.00814968491418111\n",
            "Maximum Value: 0.9918587040999362\n"
          ]
        }
      ]
    },
    {
      "cell_type": "markdown",
      "source": [
        "Q.14 Create a 10x10 array with 1 on the border and 0 inside."
      ],
      "metadata": {
        "id": "Co8OTEJ6jf6e"
      }
    },
    {
      "cell_type": "code",
      "source": [
        "# write your code here\n",
        "array = np.zeros((10, 10))\n",
        "array[0, :] = 1\n",
        "array[-1, :] = 1\n",
        "array[:, 0] = 1\n",
        "array[:, -1] = 1\n",
        "print(array)"
      ],
      "metadata": {
        "id": "Wzr5gLOJjvku",
        "colab": {
          "base_uri": "https://localhost:8080/"
        },
        "outputId": "daf39441-0fc3-461f-b17e-d6658ab8409f"
      },
      "execution_count": null,
      "outputs": [
        {
          "output_type": "stream",
          "name": "stdout",
          "text": [
            "[[1. 1. 1. 1. 1. 1. 1. 1. 1. 1.]\n",
            " [1. 0. 0. 0. 0. 0. 0. 0. 0. 1.]\n",
            " [1. 0. 0. 0. 0. 0. 0. 0. 0. 1.]\n",
            " [1. 0. 0. 0. 0. 0. 0. 0. 0. 1.]\n",
            " [1. 0. 0. 0. 0. 0. 0. 0. 0. 1.]\n",
            " [1. 0. 0. 0. 0. 0. 0. 0. 0. 1.]\n",
            " [1. 0. 0. 0. 0. 0. 0. 0. 0. 1.]\n",
            " [1. 0. 0. 0. 0. 0. 0. 0. 0. 1.]\n",
            " [1. 0. 0. 0. 0. 0. 0. 0. 0. 1.]\n",
            " [1. 1. 1. 1. 1. 1. 1. 1. 1. 1.]]\n"
          ]
        }
      ]
    },
    {
      "cell_type": "markdown",
      "source": [
        "Q. 15 Create 8x8 array and fill it with the cheakerboard pattern."
      ],
      "metadata": {
        "id": "3JLtpLvmjwyZ"
      }
    },
    {
      "cell_type": "code",
      "source": [
        "# write your code here\n",
        "checkerboard = np.zeros((8, 8))\n",
        "checkerboard[1::2, ::2] = 1\n",
        "checkerboard[::2, 1::2] = 1\n",
        "print(checkerboard)"
      ],
      "metadata": {
        "id": "u4gEfzjbj7Ur",
        "colab": {
          "base_uri": "https://localhost:8080/"
        },
        "outputId": "e2a74ec8-b480-4396-8d57-5d58b921d7bf"
      },
      "execution_count": null,
      "outputs": [
        {
          "output_type": "stream",
          "name": "stdout",
          "text": [
            "[[0. 1. 0. 1. 0. 1. 0. 1.]\n",
            " [1. 0. 1. 0. 1. 0. 1. 0.]\n",
            " [0. 1. 0. 1. 0. 1. 0. 1.]\n",
            " [1. 0. 1. 0. 1. 0. 1. 0.]\n",
            " [0. 1. 0. 1. 0. 1. 0. 1.]\n",
            " [1. 0. 1. 0. 1. 0. 1. 0.]\n",
            " [0. 1. 0. 1. 0. 1. 0. 1.]\n",
            " [1. 0. 1. 0. 1. 0. 1. 0.]]\n"
          ]
        }
      ]
    },
    {
      "cell_type": "markdown",
      "source": [
        "Q.16 Create a numpy array of size 10 with values ranging from 0 to 1, both excluded."
      ],
      "metadata": {
        "id": "1PjyOeDAj8KP"
      }
    },
    {
      "cell_type": "code",
      "source": [
        "# write your code here\n",
        "np.random.uniform(0, 1, 10)"
      ],
      "metadata": {
        "id": "pQqh-pfYkTJ2",
        "colab": {
          "base_uri": "https://localhost:8080/"
        },
        "outputId": "8c9af351-cdac-40bb-9d24-b2fa97e4d091"
      },
      "execution_count": null,
      "outputs": [
        {
          "output_type": "execute_result",
          "data": {
            "text/plain": [
              "array([0.79488294, 0.80452831, 0.80891089, 0.92302216, 0.79140411,\n",
              "       0.95152699, 0.76491107, 0.08726392, 0.46595381, 0.18263082])"
            ]
          },
          "metadata": {},
          "execution_count": 28
        }
      ]
    },
    {
      "cell_type": "markdown",
      "source": [
        "Q.17 Create a random array of size 10 and sort it."
      ],
      "metadata": {
        "id": "mEeRFj_LkTny"
      }
    },
    {
      "cell_type": "code",
      "source": [
        "# write your code here\n",
        "random_array = np.random.rand(10)\n",
        "print(\"Original Array:\")\n",
        "print(random_array)\n",
        "random_array.sort()\n",
        "print(\"\\nSorted Array:\")\n",
        "print(random_array)"
      ],
      "metadata": {
        "id": "PFCXlqJ1kbVp",
        "colab": {
          "base_uri": "https://localhost:8080/"
        },
        "outputId": "c8ccfcaf-2de0-4e9b-8964-50a8fd31493f"
      },
      "execution_count": null,
      "outputs": [
        {
          "output_type": "stream",
          "name": "stdout",
          "text": [
            "Original Array:\n",
            "[0.10526799 0.40733959 0.22059579 0.48504994 0.34675692 0.53436707\n",
            " 0.88906704 0.44009828 0.94715976 0.97563595]\n",
            "\n",
            "Sorted Array:\n",
            "[0.10526799 0.22059579 0.34675692 0.40733959 0.44009828 0.48504994\n",
            " 0.53436707 0.88906704 0.94715976 0.97563595]\n"
          ]
        }
      ]
    },
    {
      "cell_type": "markdown",
      "source": [
        "Q.18 Create a random array of size 10 and replace the maximum value with 0."
      ],
      "metadata": {
        "id": "To1wobp2kb7C"
      }
    },
    {
      "cell_type": "code",
      "source": [
        "# write your code here\n",
        "random_array = np.random.rand(10)\n",
        "print(\"Original Array:\")\n",
        "print(random_array)\n",
        "max_value = np.max(random_array)\n",
        "random_array[random_array == max_value] = 0\n",
        "print(\"\\nArray after replacing the maximum value with 0:\")\n",
        "print(random_array)"
      ],
      "metadata": {
        "id": "02ckfVLvkhSw",
        "colab": {
          "base_uri": "https://localhost:8080/"
        },
        "outputId": "643adc8b-dff6-4364-b430-64b2a873a9c4"
      },
      "execution_count": null,
      "outputs": [
        {
          "output_type": "stream",
          "name": "stdout",
          "text": [
            "Original Array:\n",
            "[0.36055328 0.58794258 0.52559086 0.34882508 0.13563838 0.49428909\n",
            " 0.43081712 0.75527359 0.08851305 0.79813841]\n",
            "\n",
            "Array after replacing the maximum value with 0:\n",
            "[0.36055328 0.58794258 0.52559086 0.34882508 0.13563838 0.49428909\n",
            " 0.43081712 0.75527359 0.08851305 0.        ]\n"
          ]
        }
      ]
    },
    {
      "cell_type": "markdown",
      "source": [
        "Q.19 Create a random array of size 10 and replace the minimum value with 10."
      ],
      "metadata": {
        "id": "dxCgo46pQuI_"
      }
    },
    {
      "cell_type": "code",
      "source": [
        "# write your code here\n",
        "random_array = np.random.rand(10)\n",
        "print(\"Original Array:\")\n",
        "print(random_array)\n",
        "max_value = np.min(random_array)\n",
        "random_array[random_array == max_value] = 0\n",
        "print(\"\\nArray after replacing the minimum value with 0:\")\n",
        "print(random_array)"
      ],
      "metadata": {
        "id": "iNP4L6uaQ06W",
        "colab": {
          "base_uri": "https://localhost:8080/"
        },
        "outputId": "423dc6c7-c939-458b-ec26-523a4eb72feb"
      },
      "execution_count": null,
      "outputs": [
        {
          "output_type": "stream",
          "name": "stdout",
          "text": [
            "Original Array:\n",
            "[0.35475213 0.29429165 0.34322229 0.03018911 0.12114053 0.0011186\n",
            " 0.94753239 0.57246005 0.16441828 0.63368844]\n",
            "\n",
            "Array after replacing the minimum value with 0:\n",
            "[0.35475213 0.29429165 0.34322229 0.03018911 0.12114053 0.\n",
            " 0.94753239 0.57246005 0.16441828 0.63368844]\n"
          ]
        }
      ]
    },
    {
      "cell_type": "markdown",
      "source": [
        "Q.20 Create an array of size 5x5 and swap two rows."
      ],
      "metadata": {
        "id": "-RHfc3ymkh_C"
      }
    },
    {
      "cell_type": "code",
      "source": [
        " # write your code here\n",
        "array_5x5 = np.random.rand(5, 5)\n",
        "print(\"Original 5x5 Array:\")\n",
        "print(array_5x5)\n",
        "array_5x5[[0, 1]] = array_5x5[[1, 0]]\n",
        "print(\"\\nArray after swapping row 0 and row 1:\")\n",
        "print(array_5x5)"
      ],
      "metadata": {
        "id": "OvK420zakymy",
        "colab": {
          "base_uri": "https://localhost:8080/"
        },
        "outputId": "ff2c7ff9-b73b-451d-f907-e739800b6ec5"
      },
      "execution_count": null,
      "outputs": [
        {
          "output_type": "stream",
          "name": "stdout",
          "text": [
            "Original 5x5 Array:\n",
            "[[0.85772518 0.1118542  0.04049833 0.88461573 0.16152588]\n",
            " [0.2354801  0.32793423 0.22120214 0.95106458 0.91984147]\n",
            " [0.37289021 0.349312   0.18145199 0.58662007 0.31401541]\n",
            " [0.88206054 0.47041476 0.81352593 0.63948576 0.45358925]\n",
            " [0.85521103 0.50105306 0.18986024 0.53255687 0.49311323]]\n",
            "\n",
            "Array after swapping row 0 and row 1:\n",
            "[[0.2354801  0.32793423 0.22120214 0.95106458 0.91984147]\n",
            " [0.85772518 0.1118542  0.04049833 0.88461573 0.16152588]\n",
            " [0.37289021 0.349312   0.18145199 0.58662007 0.31401541]\n",
            " [0.88206054 0.47041476 0.81352593 0.63948576 0.45358925]\n",
            " [0.85521103 0.50105306 0.18986024 0.53255687 0.49311323]]\n"
          ]
        }
      ]
    },
    {
      "cell_type": "markdown",
      "source": [
        "# End!"
      ],
      "metadata": {
        "id": "3RtCSNU_nZGs"
      }
    }
  ]
}